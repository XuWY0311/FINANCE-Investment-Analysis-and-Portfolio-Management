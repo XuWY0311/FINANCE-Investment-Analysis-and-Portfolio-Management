{
 "cells": [
  {
   "cell_type": "code",
   "execution_count": 11,
   "metadata": {},
   "outputs": [],
   "source": [
    "from scipy import log, exp, sqrt, stats"
   ]
  },
  {
   "cell_type": "code",
   "execution_count": 12,
   "metadata": {},
   "outputs": [],
   "source": [
    "# Compute the call price based on B-S Formula (With Dividend Payment)\n",
    "def call(S, K, T, r, sigma, div):\n",
    "    d1 = (log(S * exp(-div * T) / K) + (r + sigma * sigma / 2) * T) / (sigma * sqrt(T))\n",
    "    d2 = d1 - sigma * sqrt(T)\n",
    "    return S * stats.norm.cdf(d1) * exp(-div * T) - K * exp(-r * T)*stats.norm.cdf(d2)"
   ]
  },
  {
   "cell_type": "code",
   "execution_count": 13,
   "metadata": {},
   "outputs": [
    {
     "name": "stdout",
     "output_type": "stream",
     "text": [
      "When K = 410, Call price = 4.8920676978098925\n",
      "When K = 411, Call price = 4.7033212192061455\n",
      "When K = 412, Call price = 4.520630318116872\n",
      "When K = 413, Call price = 4.343859613426702\n",
      "When K = 414, Call price = 4.172874041465789\n",
      "When K = 415, Call price = 4.0075389936991\n",
      "When K = 416, Call price = 3.84772044903184\n",
      "When K = 417, Call price = 3.6932851006453546\n",
      "When K = 418, Call price = 3.544100477293611\n",
      "When K = 419, Call price = 3.4000350590095323\n",
      "When K = 420, Call price = 3.2609583871881895\n",
      "When K = 421, Call price = 3.1267411690286906\n",
      "When K = 422, Call price = 2.9972553763349126\n",
      "When K = 423, Call price = 2.87237433868777\n",
      "When K = 424, Call price = 2.7519728310190743\n",
      "When K = 425, Call price = 2.635927155627222\n",
      "When K = 426, Call price = 2.5241152186911933\n",
      "When K = 427, Call price = 2.4164166013490487\n",
      "When K = 428, Call price = 2.3127126254191452\n",
      "When K = 429, Call price = 2.2128864138534965\n"
     ]
    },
    {
     "name": "stderr",
     "output_type": "stream",
     "text": [
      "/var/folders/sm/7tp7vpvj6hd2ttv98tx891kr0000gn/T/ipykernel_91288/1601241258.py:3: DeprecationWarning: scipy.exp is deprecated and will be removed in SciPy 2.0.0, use numpy.exp instead\n",
      "  d1 = (log(S * exp(-div * T) / K) + (r + sigma * sigma / 2) * T) / (sigma * sqrt(T))\n",
      "/var/folders/sm/7tp7vpvj6hd2ttv98tx891kr0000gn/T/ipykernel_91288/1601241258.py:3: DeprecationWarning: scipy.log is deprecated and will be removed in SciPy 2.0.0, use numpy.lib.scimath.log instead\n",
      "  d1 = (log(S * exp(-div * T) / K) + (r + sigma * sigma / 2) * T) / (sigma * sqrt(T))\n",
      "/var/folders/sm/7tp7vpvj6hd2ttv98tx891kr0000gn/T/ipykernel_91288/1601241258.py:3: DeprecationWarning: scipy.sqrt is deprecated and will be removed in SciPy 2.0.0, use numpy.lib.scimath.sqrt instead\n",
      "  d1 = (log(S * exp(-div * T) / K) + (r + sigma * sigma / 2) * T) / (sigma * sqrt(T))\n",
      "/var/folders/sm/7tp7vpvj6hd2ttv98tx891kr0000gn/T/ipykernel_91288/1601241258.py:4: DeprecationWarning: scipy.sqrt is deprecated and will be removed in SciPy 2.0.0, use numpy.lib.scimath.sqrt instead\n",
      "  d2 = d1 - sigma * sqrt(T)\n",
      "/var/folders/sm/7tp7vpvj6hd2ttv98tx891kr0000gn/T/ipykernel_91288/1601241258.py:5: DeprecationWarning: scipy.exp is deprecated and will be removed in SciPy 2.0.0, use numpy.exp instead\n",
      "  return S * stats.norm.cdf(d1) * exp(-div * T) - K * exp(-r * T)*stats.norm.cdf(d2)\n"
     ]
    }
   ],
   "source": [
    "for K in range(410, 430):\n",
    "    print(\"When K = \" + str(K) + \", Call price = \" + str(call(370, K, 0.5, 0.07, 0.15, 0.033)))"
   ]
  }
 ],
 "metadata": {
  "kernelspec": {
   "display_name": "base",
   "language": "python",
   "name": "python3"
  },
  "language_info": {
   "codemirror_mode": {
    "name": "ipython",
    "version": 3
   },
   "file_extension": ".py",
   "mimetype": "text/x-python",
   "name": "python",
   "nbconvert_exporter": "python",
   "pygments_lexer": "ipython3",
   "version": "3.9.13"
  },
  "orig_nbformat": 4
 },
 "nbformat": 4,
 "nbformat_minor": 2
}
